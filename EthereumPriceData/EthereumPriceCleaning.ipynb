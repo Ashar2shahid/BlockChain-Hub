{
 "metadata": {
  "language_info": {
   "codemirror_mode": {
    "name": "ipython",
    "version": 3
   },
   "file_extension": ".py",
   "mimetype": "text/x-python",
   "name": "python",
   "nbconvert_exporter": "python",
   "pygments_lexer": "ipython3",
   "version": "3.9.1-final"
  },
  "orig_nbformat": 2,
  "kernelspec": {
   "name": "python3",
   "display_name": "Python 3.9.1 64-bit",
   "metadata": {
    "interpreter": {
     "hash": "d685447a12e1ca265a5129ebfa322cd24966856e475e29e020981cc41c807157"
    }
   }
  }
 },
 "nbformat": 4,
 "nbformat_minor": 2,
 "cells": [
  {
   "cell_type": "code",
   "execution_count": 17,
   "metadata": {},
   "outputs": [],
   "source": [
    "import json\n",
    "import csv\n",
    "from datetime import datetime"
   ]
  },
  {
   "cell_type": "code",
   "execution_count": 18,
   "metadata": {},
   "outputs": [],
   "source": [
    "with open(\"EthereumPrice.json\") as f:\n",
    "    Prices = json.load(f)"
   ]
  },
  {
   "cell_type": "code",
   "execution_count": 19,
   "metadata": {},
   "outputs": [],
   "source": [
    "for price in Prices:\n",
    "    price['date'] = datetime.fromtimestamp(price['date']).strftime(\"%Y-%m-%d %H:%M:%S\")"
   ]
  },
  {
   "cell_type": "code",
   "execution_count": 21,
   "metadata": {},
   "outputs": [],
   "source": [
    "dates = []\n",
    "eth_price = []\n",
    "usdt_volume = []\n",
    "eth_volume = []\n",
    "\n",
    "for price in Prices:\n",
    "    dates.append(price['date'])\n",
    "    eth_price.append(price['close'])\n",
    "    eth_volume.append(price['quoteVolume'])\n",
    "    usdt_volume.append(price['volume'])\n",
    "\n",
    "with open('EthereumPrice.csv', 'w', newline='', encoding='utf-8') as csvfile:\n",
    "    csv_writer = csv.writer(csvfile)\n",
    "    csv_writer.writerows(zip(dates,eth_price,usdt_volume,eth_volume))\n"
   ]
  },
  {
   "cell_type": "code",
   "execution_count": null,
   "metadata": {},
   "outputs": [],
   "source": []
  }
 ]
}