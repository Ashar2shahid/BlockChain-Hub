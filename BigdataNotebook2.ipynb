{
  "nbformat": 4,
  "nbformat_minor": 0,
  "metadata": {
    "colab": {
      "name": "BigdataNotebook2.ipynb",
      "provenance": [],
      "include_colab_link": true
    },
    "kernelspec": {
      "name": "python3",
      "display_name": "Python 3"
    },
    "language_info": {
      "name": "python"
    }
  },
  "cells": [
    {
      "cell_type": "markdown",
      "metadata": {
        "id": "view-in-github",
        "colab_type": "text"
      },
      "source": [
        "<a href=\"https://colab.research.google.com/github/Ashar2shahid/blockchain-hub/blob/main/BigdataNotebook2.ipynb\" target=\"_parent\"><img src=\"https://colab.research.google.com/assets/colab-badge.svg\" alt=\"Open In Colab\"/></a>"
      ]
    },
    {
      "cell_type": "code",
      "metadata": {
        "id": "hySevP4B12vw"
      },
      "source": [
        "!apt-get install openjdk-8-jdk-headless -qq > /dev/null"
      ],
      "execution_count": 1,
      "outputs": []
    },
    {
      "cell_type": "code",
      "metadata": {
        "id": "HOWivR3f4Ly0"
      },
      "source": [
        "!wget -q https://downloads.apache.org/spark/spark-3.1.1/spark-3.1.1-bin-hadoop2.7.tgz"
      ],
      "execution_count": 2,
      "outputs": []
    },
    {
      "cell_type": "code",
      "metadata": {
        "id": "YBPeVmI86NKx"
      },
      "source": [
        "!tar xf spark-3.1.1-bin-hadoop2.7.tgz"
      ],
      "execution_count": 3,
      "outputs": []
    },
    {
      "cell_type": "code",
      "metadata": {
        "id": "NJ4gRjM66REF"
      },
      "source": [
        "!pip install -q findspark"
      ],
      "execution_count": 4,
      "outputs": []
    },
    {
      "cell_type": "code",
      "metadata": {
        "id": "vNm5VI726cqo"
      },
      "source": [
        "import os\n",
        "os.environ[\"JAVA_HOME\"] = \"/usr/lib/jvm/java-8-openjdk-amd64\"\n",
        "os.environ[\"SPARK_HOME\"] = \"/content/spark-3.1.1-bin-hadoop2.7\""
      ],
      "execution_count": 5,
      "outputs": []
    },
    {
      "cell_type": "code",
      "metadata": {
        "id": "zjKKHyWk6sA2"
      },
      "source": [
        "import findspark\n",
        "findspark.init()"
      ],
      "execution_count": 6,
      "outputs": []
    },
    {
      "cell_type": "code",
      "metadata": {
        "colab": {
          "base_uri": "https://localhost:8080/",
          "height": 35
        },
        "id": "N37tVifh6uIA",
        "outputId": "99ca256e-faff-4f69-d320-b1ac50e83459"
      },
      "source": [
        "findspark.find()"
      ],
      "execution_count": 7,
      "outputs": [
        {
          "output_type": "execute_result",
          "data": {
            "application/vnd.google.colaboratory.intrinsic+json": {
              "type": "string"
            },
            "text/plain": [
              "'/content/spark-3.1.1-bin-hadoop2.7'"
            ]
          },
          "metadata": {
            "tags": []
          },
          "execution_count": 7
        }
      ]
    },
    {
      "cell_type": "code",
      "metadata": {
        "colab": {
          "base_uri": "https://localhost:8080/"
        },
        "id": "sT7VqRJp6vRZ",
        "outputId": "79ccf884-ca36-48e8-ebcf-c0130c5a2868"
      },
      "source": [
        "!wget https://bin.equinox.io/c/4VmDzA7iaHb/ngrok-stable-linux-amd64.zip\n",
        "!unzip -y ngrok-stable-linux-amd64.zip\n",
        "get_ipython().system_raw('./ngrok http 4050 &')\n",
        "!curl -s http://localhost:4040/api/tunnels"
      ],
      "execution_count": 8,
      "outputs": [
        {
          "output_type": "stream",
          "text": [
            "--2021-03-31 15:33:34--  https://bin.equinox.io/c/4VmDzA7iaHb/ngrok-stable-linux-amd64.zip\n",
            "Resolving bin.equinox.io (bin.equinox.io)... 34.198.117.197, 174.129.26.222, 35.175.47.233, ...\n",
            "Connecting to bin.equinox.io (bin.equinox.io)|34.198.117.197|:443... connected.\n",
            "HTTP request sent, awaiting response... 200 OK\n",
            "Length: 14746350 (14M) [application/octet-stream]\n",
            "Saving to: ‘ngrok-stable-linux-amd64.zip’\n",
            "\n",
            "ngrok-stable-linux- 100%[===================>]  14.06M  44.0MB/s    in 0.3s    \n",
            "\n",
            "2021-03-31 15:33:35 (44.0 MB/s) - ‘ngrok-stable-linux-amd64.zip’ saved [14746350/14746350]\n",
            "\n",
            "UnZip 6.00 of 20 April 2009, by Debian. Original by Info-ZIP.\n",
            "\n",
            "Usage: unzip [-Z] [-opts[modifiers]] file[.zip] [list] [-x xlist] [-d exdir]\n",
            "  Default action is to extract files in list, except those in xlist, to exdir;\n",
            "  file[.zip] may be a wildcard.  -Z => ZipInfo mode (\"unzip -Z\" for usage).\n",
            "\n",
            "  -p  extract files to pipe, no messages     -l  list files (short format)\n",
            "  -f  freshen existing files, create none    -t  test compressed archive data\n",
            "  -u  update files, create if necessary      -z  display archive comment only\n",
            "  -v  list verbosely/show version info       -T  timestamp archive to latest\n",
            "  -x  exclude files that follow (in xlist)   -d  extract files into exdir\n",
            "modifiers:\n",
            "  -n  never overwrite existing files         -q  quiet mode (-qq => quieter)\n",
            "  -o  overwrite files WITHOUT prompting      -a  auto-convert any text files\n",
            "  -j  junk paths (do not make directories)   -aa treat ALL files as text\n",
            "  -U  use escapes for all non-ASCII Unicode  -UU ignore any Unicode fields\n",
            "  -C  match filenames case-insensitively     -L  make (some) names lowercase\n",
            "  -X  restore UID/GID info                   -V  retain VMS version numbers\n",
            "  -K  keep setuid/setgid/tacky permissions   -M  pipe through \"more\" pager\n",
            "  -O CHARSET  specify a character encoding for DOS, Windows and OS/2 archives\n",
            "  -I CHARSET  specify a character encoding for UNIX and other archives\n",
            "\n",
            "See \"unzip -hh\" or unzip.txt for more help.  Examples:\n",
            "  unzip data1 -x joe   => extract all files except joe from zipfile data1.zip\n",
            "  unzip -p foo | more  => send contents of foo.zip via pipe into program more\n",
            "  unzip -fo foo ReadMe => quietly replace existing ReadMe if archive file newer\n"
          ],
          "name": "stdout"
        }
      ]
    },
    {
      "cell_type": "code",
      "metadata": {
        "colab": {
          "base_uri": "https://localhost:8080/"
        },
        "id": "oDWtKXgy6yCS",
        "outputId": "ef6211f6-6371-4b93-8753-76bb90546501"
      },
      "source": [
        "ls"
      ],
      "execution_count": 9,
      "outputs": [
        {
          "output_type": "stream",
          "text": [
            "ngrok-stable-linux-amd64.zip  \u001b[0m\u001b[01;34mspark-3.1.1-bin-hadoop2.7\u001b[0m/\n",
            "\u001b[01;34msample_data\u001b[0m/                  spark-3.1.1-bin-hadoop2.7.tgz\n"
          ],
          "name": "stdout"
        }
      ]
    },
    {
      "cell_type": "code",
      "metadata": {
        "id": "L_bK4PcF60nG"
      },
      "source": [
        "from pyspark import SparkContext,SparkConf\n",
        "from pyspark.sql import SparkSession\n",
        "import pyspark\n",
        "conf = pyspark.SparkConf()\n",
        "conf.set(\"spark.driver.memory\",\"8G\");\n",
        "import numpy as np\n",
        "sc = SparkContext.getOrCreate(conf=conf)\n",
        "from pyspark.sql.functions import round, col"
      ],
      "execution_count": 10,
      "outputs": []
    },
    {
      "cell_type": "code",
      "metadata": {
        "id": "WhCL-cnB66En"
      },
      "source": [
        "project_id = 'api3-307502'"
      ],
      "execution_count": 11,
      "outputs": []
    },
    {
      "cell_type": "code",
      "metadata": {
        "id": "m33zTRRW69P4"
      },
      "source": [
        "from google.colab import auth\n",
        "auth.authenticate_user()"
      ],
      "execution_count": 12,
      "outputs": []
    },
    {
      "cell_type": "code",
      "metadata": {
        "colab": {
          "base_uri": "https://localhost:8080/"
        },
        "id": "jF49lb0B6_yZ",
        "outputId": "b31cceb8-9ef7-41ea-8bd3-e17bec79761f"
      },
      "source": [
        "!gcloud config set project {project_id}"
      ],
      "execution_count": 13,
      "outputs": [
        {
          "output_type": "stream",
          "text": [
            "Updated property [core/project].\n"
          ],
          "name": "stdout"
        }
      ]
    },
    {
      "cell_type": "code",
      "metadata": {
        "colab": {
          "base_uri": "https://localhost:8080/"
        },
        "id": "2lL18hf67GrM",
        "outputId": "c0e726bd-3422-4180-f58a-9be1e5962960"
      },
      "source": [
        "!gsutil cp gs://ethereum-bigdata/token_transfer* /tmp/"
      ],
      "execution_count": 14,
      "outputs": [
        {
          "output_type": "stream",
          "text": [
            "Copying gs://ethereum-bigdata/token_transfer_2019_11_01__2020_01_01_000000000000...\n",
            "Copying gs://ethereum-bigdata/token_transfer_2019_11_01__2020_01_01_000000000001...\n",
            "Copying gs://ethereum-bigdata/token_transfer_2019_11_01__2020_01_01_000000000002...\n",
            "Copying gs://ethereum-bigdata/token_transfer_2019_11_01__2020_01_01_000000000003...\n",
            "- [4 files][  2.0 GiB/  2.0 GiB]   58.3 MiB/s                                   \n",
            "==> NOTE: You are performing a sequence of gsutil operations that may\n",
            "run significantly faster if you instead use gsutil -m cp ... Please\n",
            "see the -m section under \"gsutil help options\" for further information\n",
            "about when gsutil -m can be advantageous.\n",
            "\n",
            "Copying gs://ethereum-bigdata/token_transfer_2019_11_01__2020_01_01_000000000004...\n",
            "Copying gs://ethereum-bigdata/token_transfer_2019_11_01__2020_01_01_000000000005...\n",
            "Copying gs://ethereum-bigdata/token_transfer_2019_11_01__2020_01_01_000000000006...\n",
            "Copying gs://ethereum-bigdata/token_transfer_2019_11_01__2020_01_01_000000000007...\n",
            "Copying gs://ethereum-bigdata/token_transfer_2019_11_01__2020_01_01_000000000008...\n",
            "Copying gs://ethereum-bigdata/token_transfer_2019_11_01__2020_01_01_000000000009...\n",
            "Copying gs://ethereum-bigdata/token_transfer_2019_11_01__2020_01_01_000000000010...\n",
            "Copying gs://ethereum-bigdata/token_transfer_2019_11_01__2020_01_01_000000000011...\n",
            "Copying gs://ethereum-bigdata/token_transfer_2019_11_01__2020_01_01_000000000012...\n",
            "Copying gs://ethereum-bigdata/token_transfer_2019_11_01__2020_01_01_000000000013...\n",
            "Copying gs://ethereum-bigdata/token_transfer_2019_11_01__2020_01_01_000000000014...\n",
            "Copying gs://ethereum-bigdata/token_transfer_2019_11_01__2020_01_01_000000000015...\n",
            "Copying gs://ethereum-bigdata/token_transfer_2019_11_01__2020_01_01_000000000016...\n",
            "Copying gs://ethereum-bigdata/token_transfer_2019_11_01__2020_01_01_000000000017...\n",
            "Copying gs://ethereum-bigdata/token_transfer_2019_11_01__2020_01_01_000000000018...\n",
            "Copying gs://ethereum-bigdata/token_transfer_2020_03_01__2020_05_01_000000000000...\n",
            "Copying gs://ethereum-bigdata/token_transfer_2020_03_01__2020_05_01_000000000001...\n",
            "Copying gs://ethereum-bigdata/token_transfer_2020_03_01__2020_05_01_000000000002...\n",
            "Copying gs://ethereum-bigdata/token_transfer_2020_03_01__2020_05_01_000000000003...\n",
            "Copying gs://ethereum-bigdata/token_transfer_2020_03_01__2020_05_01_000000000004...\n",
            "Copying gs://ethereum-bigdata/token_transfer_2020_03_01__2020_05_01_000000000005...\n",
            "Copying gs://ethereum-bigdata/token_transfer_2020_03_01__2020_05_01_000000000006...\n",
            "Copying gs://ethereum-bigdata/token_transfer_2020_03_01__2020_05_01_000000000007...\n",
            "Copying gs://ethereum-bigdata/token_transfer_2020_03_01__2020_05_01_000000000008...\n",
            "Copying gs://ethereum-bigdata/token_transfer_2020_03_01__2020_05_01_000000000009...\n",
            "Copying gs://ethereum-bigdata/token_transfer_2020_03_01__2020_05_01_000000000010...\n",
            "Copying gs://ethereum-bigdata/token_transfer_2020_03_01__2020_05_01_000000000011...\n",
            "Copying gs://ethereum-bigdata/token_transfer_2020_03_01__2020_05_01_000000000012...\n",
            "Copying gs://ethereum-bigdata/token_transfer_2020_03_01__2020_05_01_000000000013...\n",
            "Copying gs://ethereum-bigdata/token_transfer_2020_03_01__2020_05_01_000000000014...\n",
            "Copying gs://ethereum-bigdata/token_transfer_2020_07_01__2020_09_01_000000000000...\n",
            "Copying gs://ethereum-bigdata/token_transfer_2020_07_01__2020_09_01_000000000001...\n",
            "Copying gs://ethereum-bigdata/token_transfer_2020_07_01__2020_09_01_000000000002...\n",
            "Copying gs://ethereum-bigdata/token_transfer_2020_07_01__2020_09_01_000000000003...\n",
            "Copying gs://ethereum-bigdata/token_transfer_2020_07_01__2020_09_01_000000000004...\n",
            "Copying gs://ethereum-bigdata/token_transfer_2020_07_01__2020_09_01_000000000005...\n",
            "Copying gs://ethereum-bigdata/token_transfer_2020_07_01__2020_09_01_000000000006...\n",
            "Copying gs://ethereum-bigdata/token_transfer_2020_07_01__2020_09_01_000000000007...\n",
            "Copying gs://ethereum-bigdata/token_transfer_2020_07_01__2020_09_01_000000000008...\n",
            "Copying gs://ethereum-bigdata/token_transfer_2020_07_01__2020_09_01_000000000009...\n",
            "Copying gs://ethereum-bigdata/token_transfer_2020_07_01__2020_09_01_000000000010...\n",
            "Copying gs://ethereum-bigdata/token_transfer_2020_07_01__2020_09_01_000000000011...\n",
            "Copying gs://ethereum-bigdata/token_transfer_2020_07_01__2020_09_01_000000000012...\n",
            "Copying gs://ethereum-bigdata/token_transfer_2020_07_01__2020_09_01_000000000013...\n",
            "Copying gs://ethereum-bigdata/token_transfer_2020_07_01__2020_09_01_000000000014...\n",
            "Copying gs://ethereum-bigdata/token_transfer_2020_07_01__2020_09_01_000000000015...\n",
            "Copying gs://ethereum-bigdata/token_transfer_2020_07_01__2020_09_01_000000000016...\n",
            "Copying gs://ethereum-bigdata/token_transfer_2020_07_01__2020_09_01_000000000017...\n",
            "Copying gs://ethereum-bigdata/token_transfer_2020_07_01__2020_09_01_000000000018...\n",
            "Copying gs://ethereum-bigdata/token_transfer_2020_07_01__2020_09_01_000000000019...\n",
            "Copying gs://ethereum-bigdata/token_transfer_2020_07_01__2020_09_01_000000000020...\n",
            "Copying gs://ethereum-bigdata/token_transfer_2020_11_01__2021_01_01_000000000000...\n",
            "Copying gs://ethereum-bigdata/token_transfer_2020_11_01__2021_01_01_000000000001...\n",
            "Copying gs://ethereum-bigdata/token_transfer_2020_11_01__2021_01_01_000000000002...\n",
            "Copying gs://ethereum-bigdata/token_transfer_2020_11_01__2021_01_01_000000000003...\n",
            "Copying gs://ethereum-bigdata/token_transfer_2020_11_01__2021_01_01_000000000004...\n",
            "Copying gs://ethereum-bigdata/token_transfer_2020_11_01__2021_01_01_000000000005...\n",
            "Copying gs://ethereum-bigdata/token_transfer_2020_11_01__2021_01_01_000000000006...\n",
            "Copying gs://ethereum-bigdata/token_transfer_2020_11_01__2021_01_01_000000000007...\n",
            "Copying gs://ethereum-bigdata/token_transfer_2020_11_01__2021_01_01_000000000008...\n",
            "Copying gs://ethereum-bigdata/token_transfer_2020_11_01__2021_01_01_000000000009...\n",
            "Copying gs://ethereum-bigdata/token_transfer_2020_11_01__2021_01_01_000000000010...\n",
            "Copying gs://ethereum-bigdata/token_transfer_2020_11_01__2021_01_01_000000000011...\n",
            "Copying gs://ethereum-bigdata/token_transfer_2020_11_01__2021_01_01_000000000012...\n",
            "Copying gs://ethereum-bigdata/token_transfer_2020_11_01__2021_01_01_000000000013...\n",
            "Copying gs://ethereum-bigdata/token_transfer_2020_11_01__2021_01_01_000000000014...\n",
            "Copying gs://ethereum-bigdata/token_transfer_2020_11_01__2021_01_01_000000000015...\n",
            "Copying gs://ethereum-bigdata/token_transfer_2020_11_01__2021_01_01_000000000016...\n",
            "Copying gs://ethereum-bigdata/token_transfer_2020_11_01__2021_01_01_000000000017...\n",
            "Copying gs://ethereum-bigdata/token_transfer_2020_11_01__2021_01_01_000000000018...\n",
            "Copying gs://ethereum-bigdata/token_transfer_2020_11_01__2021_01_01_000000000019...\n",
            "Copying gs://ethereum-bigdata/token_transfer_2020_11_01__2021_01_01_000000000020...\n",
            "Copying gs://ethereum-bigdata/token_transfer_2020_11_01__2021_01_01_000000000021...\n",
            "Copying gs://ethereum-bigdata/token_transfer_2020_11_01__2021_01_01_000000000022...\n",
            "Copying gs://ethereum-bigdata/token_transfer_2020_11_01__2021_01_01_000000000023...\n",
            "Copying gs://ethereum-bigdata/token_transfer_2020_11_01__2021_01_01_000000000024...\n",
            "Copying gs://ethereum-bigdata/token_transfer_2020_11_01__2021_01_01_000000000025...\n",
            "| [81 files][ 38.7 GiB/ 38.7 GiB]   43.3 MiB/s                                  \n",
            "==> NOTE: You are performing a sequence of gsutil operations that may\n",
            "run significantly faster if you instead use gsutil -m cp ... Please\n",
            "see the -m section under \"gsutil help options\" for further information\n",
            "about when gsutil -m can be advantageous.\n",
            "\n",
            "\n",
            "Operation completed over 81 objects/38.7 GiB.                                    \n"
          ],
          "name": "stdout"
        }
      ]
    },
    {
      "cell_type": "code",
      "metadata": {
        "id": "ViyHLXXH7uj2"
      },
      "source": [
        "spark = SparkSession(sc)"
      ],
      "execution_count": 15,
      "outputs": []
    },
    {
      "cell_type": "code",
      "metadata": {
        "id": "LQ-d1R_nCsMo"
      },
      "source": [
        "token_transfer = os.listdir('/tmp')"
      ],
      "execution_count": 16,
      "outputs": []
    },
    {
      "cell_type": "code",
      "metadata": {
        "colab": {
          "base_uri": "https://localhost:8080/"
        },
        "id": "aSqbtDwKArQ3",
        "outputId": "b798dabc-24d8-4284-b7e5-3f1ac61ab7fc"
      },
      "source": [
        "token_transfer = [\"/tmp/\"+x for x in token_transfer if \"token_transfer_\" in x]\n",
        "token_transfer.sort()\n",
        "token_transfer"
      ],
      "execution_count": 17,
      "outputs": [
        {
          "output_type": "execute_result",
          "data": {
            "text/plain": [
              "['/tmp/token_transfer_2019_11_01__2020_01_01_000000000000',\n",
              " '/tmp/token_transfer_2019_11_01__2020_01_01_000000000001',\n",
              " '/tmp/token_transfer_2019_11_01__2020_01_01_000000000002',\n",
              " '/tmp/token_transfer_2019_11_01__2020_01_01_000000000003',\n",
              " '/tmp/token_transfer_2019_11_01__2020_01_01_000000000004',\n",
              " '/tmp/token_transfer_2019_11_01__2020_01_01_000000000005',\n",
              " '/tmp/token_transfer_2019_11_01__2020_01_01_000000000006',\n",
              " '/tmp/token_transfer_2019_11_01__2020_01_01_000000000007',\n",
              " '/tmp/token_transfer_2019_11_01__2020_01_01_000000000008',\n",
              " '/tmp/token_transfer_2019_11_01__2020_01_01_000000000009',\n",
              " '/tmp/token_transfer_2019_11_01__2020_01_01_000000000010',\n",
              " '/tmp/token_transfer_2019_11_01__2020_01_01_000000000011',\n",
              " '/tmp/token_transfer_2019_11_01__2020_01_01_000000000012',\n",
              " '/tmp/token_transfer_2019_11_01__2020_01_01_000000000013',\n",
              " '/tmp/token_transfer_2019_11_01__2020_01_01_000000000014',\n",
              " '/tmp/token_transfer_2019_11_01__2020_01_01_000000000015',\n",
              " '/tmp/token_transfer_2019_11_01__2020_01_01_000000000016',\n",
              " '/tmp/token_transfer_2019_11_01__2020_01_01_000000000017',\n",
              " '/tmp/token_transfer_2019_11_01__2020_01_01_000000000018',\n",
              " '/tmp/token_transfer_2020_03_01__2020_05_01_000000000000',\n",
              " '/tmp/token_transfer_2020_03_01__2020_05_01_000000000001',\n",
              " '/tmp/token_transfer_2020_03_01__2020_05_01_000000000002',\n",
              " '/tmp/token_transfer_2020_03_01__2020_05_01_000000000003',\n",
              " '/tmp/token_transfer_2020_03_01__2020_05_01_000000000004',\n",
              " '/tmp/token_transfer_2020_03_01__2020_05_01_000000000005',\n",
              " '/tmp/token_transfer_2020_03_01__2020_05_01_000000000006',\n",
              " '/tmp/token_transfer_2020_03_01__2020_05_01_000000000007',\n",
              " '/tmp/token_transfer_2020_03_01__2020_05_01_000000000008',\n",
              " '/tmp/token_transfer_2020_03_01__2020_05_01_000000000009',\n",
              " '/tmp/token_transfer_2020_03_01__2020_05_01_000000000010',\n",
              " '/tmp/token_transfer_2020_03_01__2020_05_01_000000000011',\n",
              " '/tmp/token_transfer_2020_03_01__2020_05_01_000000000012',\n",
              " '/tmp/token_transfer_2020_03_01__2020_05_01_000000000013',\n",
              " '/tmp/token_transfer_2020_03_01__2020_05_01_000000000014',\n",
              " '/tmp/token_transfer_2020_07_01__2020_09_01_000000000000',\n",
              " '/tmp/token_transfer_2020_07_01__2020_09_01_000000000001',\n",
              " '/tmp/token_transfer_2020_07_01__2020_09_01_000000000002',\n",
              " '/tmp/token_transfer_2020_07_01__2020_09_01_000000000003',\n",
              " '/tmp/token_transfer_2020_07_01__2020_09_01_000000000004',\n",
              " '/tmp/token_transfer_2020_07_01__2020_09_01_000000000005',\n",
              " '/tmp/token_transfer_2020_07_01__2020_09_01_000000000006',\n",
              " '/tmp/token_transfer_2020_07_01__2020_09_01_000000000007',\n",
              " '/tmp/token_transfer_2020_07_01__2020_09_01_000000000008',\n",
              " '/tmp/token_transfer_2020_07_01__2020_09_01_000000000009',\n",
              " '/tmp/token_transfer_2020_07_01__2020_09_01_000000000010',\n",
              " '/tmp/token_transfer_2020_07_01__2020_09_01_000000000011',\n",
              " '/tmp/token_transfer_2020_07_01__2020_09_01_000000000012',\n",
              " '/tmp/token_transfer_2020_07_01__2020_09_01_000000000013',\n",
              " '/tmp/token_transfer_2020_07_01__2020_09_01_000000000014',\n",
              " '/tmp/token_transfer_2020_07_01__2020_09_01_000000000015',\n",
              " '/tmp/token_transfer_2020_07_01__2020_09_01_000000000016',\n",
              " '/tmp/token_transfer_2020_07_01__2020_09_01_000000000017',\n",
              " '/tmp/token_transfer_2020_07_01__2020_09_01_000000000018',\n",
              " '/tmp/token_transfer_2020_07_01__2020_09_01_000000000019',\n",
              " '/tmp/token_transfer_2020_07_01__2020_09_01_000000000020',\n",
              " '/tmp/token_transfer_2020_11_01__2021_01_01_000000000000',\n",
              " '/tmp/token_transfer_2020_11_01__2021_01_01_000000000001',\n",
              " '/tmp/token_transfer_2020_11_01__2021_01_01_000000000002',\n",
              " '/tmp/token_transfer_2020_11_01__2021_01_01_000000000003',\n",
              " '/tmp/token_transfer_2020_11_01__2021_01_01_000000000004',\n",
              " '/tmp/token_transfer_2020_11_01__2021_01_01_000000000005',\n",
              " '/tmp/token_transfer_2020_11_01__2021_01_01_000000000006',\n",
              " '/tmp/token_transfer_2020_11_01__2021_01_01_000000000007',\n",
              " '/tmp/token_transfer_2020_11_01__2021_01_01_000000000008',\n",
              " '/tmp/token_transfer_2020_11_01__2021_01_01_000000000009',\n",
              " '/tmp/token_transfer_2020_11_01__2021_01_01_000000000010',\n",
              " '/tmp/token_transfer_2020_11_01__2021_01_01_000000000011',\n",
              " '/tmp/token_transfer_2020_11_01__2021_01_01_000000000012',\n",
              " '/tmp/token_transfer_2020_11_01__2021_01_01_000000000013',\n",
              " '/tmp/token_transfer_2020_11_01__2021_01_01_000000000014',\n",
              " '/tmp/token_transfer_2020_11_01__2021_01_01_000000000015',\n",
              " '/tmp/token_transfer_2020_11_01__2021_01_01_000000000016',\n",
              " '/tmp/token_transfer_2020_11_01__2021_01_01_000000000017',\n",
              " '/tmp/token_transfer_2020_11_01__2021_01_01_000000000018',\n",
              " '/tmp/token_transfer_2020_11_01__2021_01_01_000000000019',\n",
              " '/tmp/token_transfer_2020_11_01__2021_01_01_000000000020',\n",
              " '/tmp/token_transfer_2020_11_01__2021_01_01_000000000021',\n",
              " '/tmp/token_transfer_2020_11_01__2021_01_01_000000000022',\n",
              " '/tmp/token_transfer_2020_11_01__2021_01_01_000000000023',\n",
              " '/tmp/token_transfer_2020_11_01__2021_01_01_000000000024',\n",
              " '/tmp/token_transfer_2020_11_01__2021_01_01_000000000025']"
            ]
          },
          "metadata": {
            "tags": []
          },
          "execution_count": 17
        }
      ]
    },
    {
      "cell_type": "code",
      "metadata": {
        "id": "_r1h-wZ-DXNe"
      },
      "source": [
        "from functools import reduce\n",
        "dfToken_transfer = reduce(lambda x,y: x.unionAll(y), \n",
        "            [spark.read.format('com.databricks.spark.csv')\n",
        "                       .load(f, header=\"true\", inferSchema=\"true\") \n",
        "             for f in token_transfer])"
      ],
      "execution_count": 18,
      "outputs": []
    },
    {
      "cell_type": "code",
      "metadata": {
        "colab": {
          "base_uri": "https://localhost:8080/"
        },
        "id": "oX3EqlVjDxOB",
        "outputId": "b45b24de-02d2-4c88-a92f-99dc345d0bed"
      },
      "source": [
        "dfToken_transfer.createOrReplaceTempView(\"tokentransfer\")\n",
        "spark.sql(\"SELECT COUNT(*) FROM tokentransfer\").show()"
      ],
      "execution_count": 19,
      "outputs": [
        {
          "output_type": "stream",
          "text": [
            "+---------+\n",
            "| count(1)|\n",
            "+---------+\n",
            "|167801660|\n",
            "+---------+\n",
            "\n"
          ],
          "name": "stdout"
        }
      ]
    },
    {
      "cell_type": "code",
      "metadata": {
        "colab": {
          "base_uri": "https://localhost:8080/"
        },
        "id": "jefrY0bwHOAk",
        "outputId": "6a2e9898-3b2c-4361-b5ad-aed34210e3cb"
      },
      "source": [
        "dfToken_transfer.printSchema()"
      ],
      "execution_count": 22,
      "outputs": [
        {
          "output_type": "stream",
          "text": [
            "root\n",
            " |-- token_address: string (nullable = true)\n",
            " |-- from_address: string (nullable = true)\n",
            " |-- to_address: string (nullable = true)\n",
            " |-- value: double (nullable = true)\n",
            " |-- transaction_hash: string (nullable = true)\n",
            " |-- log_index: integer (nullable = true)\n",
            " |-- block_timestamp: string (nullable = true)\n",
            " |-- block_number: integer (nullable = true)\n",
            "\n"
          ],
          "name": "stdout"
        }
      ]
    },
    {
      "cell_type": "code",
      "metadata": {
        "id": "nPxXlNvJK5GO"
      },
      "source": [
        ""
      ],
      "execution_count": null,
      "outputs": []
    }
  ]
}